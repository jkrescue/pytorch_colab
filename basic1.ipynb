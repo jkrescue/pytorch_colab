{
  "nbformat": 4,
  "nbformat_minor": 0,
  "metadata": {
    "colab": {
      "private_outputs": true,
      "provenance": [],
      "authorship_tag": "ABX9TyPLOXE+dzyE+01xfElSMeII",
      "include_colab_link": true
    },
    "kernelspec": {
      "name": "python3",
      "display_name": "Python 3"
    },
    "language_info": {
      "name": "python"
    },
    "gpuClass": "standard"
  },
  "cells": [
    {
      "cell_type": "markdown",
      "metadata": {
        "id": "view-in-github",
        "colab_type": "text"
      },
      "source": [
        "<a href=\"https://colab.research.google.com/github/jkrescue/pytorch_colab/blob/master/basic1.ipynb\" target=\"_parent\"><img src=\"https://colab.research.google.com/assets/colab-badge.svg\" alt=\"Open In Colab\"/></a>"
      ]
    },
    {
      "cell_type": "code",
      "execution_count": null,
      "metadata": {
        "id": "ekC2s7fBSqpA"
      },
      "outputs": [],
      "source": [
        "%mkdir /home/test1"
      ]
    },
    {
      "cell_type": "code",
      "source": [
        "import torch\n",
        "import torch.nn as nn\n",
        "import numpy as np\n",
        "\n",
        "\n",
        "class LinearRegressionModel(nn.Module):\n",
        "  def __init__(self, input_dim, output_dim):\n",
        "    super(LinearRegressionModel, self).__init__()\n",
        "    self.liner = nn.Linear(input_dim, output_dim)\n",
        "\n",
        "  def forward(self, x):\n",
        "    out = self.liner(x)\n",
        "    return out\n",
        "\n",
        "input_dim = 1\n",
        "output_dim = 1\n",
        "model = LinearRegressionModel(input_dim, output_dim)\n",
        "device = torch.device('cuda:0' if torch.cuda.is_available() else 'cpu')\n",
        "model.to(device)\n",
        "\n",
        "criterion = nn.MSELoss()\n",
        "\n",
        "learning_rate = 0.01\n",
        "\n",
        "optimizer = torch.optim.SGD(model.parameters(), lr=learning_rate)\n",
        "\n",
        "epochs = 1000\n",
        "\n",
        "for epoch in range(epochs):\n",
        "  epoch += 1\n",
        "  inputs = torch.from_numpy(x_train).to(device)\n",
        "  labels = torch.from_numpy(y_train).to(device)\n",
        "\n",
        "  outputs = model(inputs)\n",
        "\n",
        "  loss = criterion(outputs, labels)\n",
        "  loss.backward()\n",
        "  optimizer.step()\n",
        "  if epoch % 50 == 0:\n",
        "    print('epoch:{}, loss:{}'.format(epoch, loss.item()))\n",
        "\n",
        "  optimizer.zero_grad()\n",
        " "
      ],
      "metadata": {
        "id": "3bRsY2AtIloU"
      },
      "execution_count": null,
      "outputs": []
    },
    {
      "cell_type": "code",
      "source": [
        "import torch\n",
        "torch.__version__\n"
      ],
      "metadata": {
        "id": "TAnblGdeUaRo"
      },
      "execution_count": null,
      "outputs": []
    },
    {
      "cell_type": "code",
      "source": [
        "torch.seed()\n",
        "x = torch.empty(5,3)\n",
        "print(x)"
      ],
      "metadata": {
        "id": "8ZhhWyNkWPTo"
      },
      "execution_count": null,
      "outputs": []
    },
    {
      "cell_type": "markdown",
      "source": [
        "# 框架直接将反向传播计算好\n"
      ],
      "metadata": {
        "id": "XkGS9PHDnq6J"
      }
    },
    {
      "cell_type": "code",
      "source": [
        "import torch\n",
        "\n",
        "x = torch.randn(3,4,requires_grad=True) # requires_grad = True表示可对当前指定的x进行求导\n",
        "x"
      ],
      "metadata": {
        "id": "wUBMoHubnxjk"
      },
      "execution_count": null,
      "outputs": []
    },
    {
      "cell_type": "code",
      "source": [
        "b = torch.randn(3,4,requires_grad=True)\n",
        "t = x + b\n",
        "y = t.sum()\n",
        "y"
      ],
      "metadata": {
        "id": "dedfF2A4oDIp"
      },
      "execution_count": null,
      "outputs": []
    },
    {
      "cell_type": "code",
      "source": [
        "y.backward()"
      ],
      "metadata": {
        "id": "C9LfINOooR_z"
      },
      "execution_count": null,
      "outputs": []
    },
    {
      "cell_type": "code",
      "source": [
        "b.grad"
      ],
      "metadata": {
        "id": "TRNkwZQooVe_"
      },
      "execution_count": null,
      "outputs": []
    },
    {
      "cell_type": "code",
      "source": [
        "x.grad"
      ],
      "metadata": {
        "id": "1NtUMRr9o21Y"
      },
      "execution_count": null,
      "outputs": []
    },
    {
      "cell_type": "code",
      "source": [
        "t.grad"
      ],
      "metadata": {
        "id": "r8AJk1Kgows5"
      },
      "execution_count": null,
      "outputs": []
    },
    {
      "cell_type": "code",
      "source": [
        "x.requires_grad, b.requires_grad, t.requires_grad"
      ],
      "metadata": {
        "id": "GsuHkCf4ohyU"
      },
      "execution_count": null,
      "outputs": []
    },
    {
      "cell_type": "code",
      "source": [
        "x = torch.rand(1)\n",
        "b = torch.rand(1, requires_grad=True)\n",
        "w = torch.rand(1, requires_grad=True)\n",
        "y = w * x\n",
        "z = y + b"
      ],
      "metadata": {
        "id": "QlLrCTWPyri2"
      },
      "execution_count": null,
      "outputs": []
    },
    {
      "cell_type": "code",
      "source": [
        "x.requires_grad,b.requires_grad,w.requires_grad,y.requires_grad"
      ],
      "metadata": {
        "id": "c1TrZev5zAtK"
      },
      "execution_count": null,
      "outputs": []
    },
    {
      "cell_type": "code",
      "source": [
        "x.is_leaf, y.is_leaf, w.is_leaf, b.is_leaf, z.is_leaf"
      ],
      "metadata": {
        "id": "yBrN8quxzRkv"
      },
      "execution_count": null,
      "outputs": []
    },
    {
      "cell_type": "markdown",
      "source": [
        "# 反向传播计算"
      ],
      "metadata": {
        "id": "tkuS2bioziPF"
      }
    },
    {
      "cell_type": "code",
      "source": [
        "z.backward(retain_graph=True) # 如果不清空会累加（不是retain_graph的问题，如果retain_graph=Flase,只能走一次backward）"
      ],
      "metadata": {
        "id": "77nXoad-zdkQ"
      },
      "execution_count": null,
      "outputs": []
    },
    {
      "cell_type": "code",
      "source": [
        "w.grad"
      ],
      "metadata": {
        "id": "VlhzUXjdzh33"
      },
      "execution_count": null,
      "outputs": []
    },
    {
      "cell_type": "code",
      "source": [
        "b.grad"
      ],
      "metadata": {
        "id": "ihPvgZfqz8I-"
      },
      "execution_count": null,
      "outputs": []
    },
    {
      "cell_type": "markdown",
      "source": [
        "# 做一个线性回归模型试试水"
      ],
      "metadata": {
        "id": "EpSUa7AV06KH"
      }
    },
    {
      "cell_type": "code",
      "source": [
        "import numpy as np"
      ],
      "metadata": {
        "id": "eakTM1QI1a-A"
      },
      "execution_count": null,
      "outputs": []
    },
    {
      "cell_type": "code",
      "source": [
        "x_values = [i for i in range(11)] # 创建任意的list，并将list转为ndarray格式\n",
        "x_train = np.array(x_values, dtype=np.float32)\n",
        "x_train = x_train.reshape(-1, 1) #将训练数据转为1列\n",
        "x_train.shape\n",
        "# x 目前是ndarray格式，无法输入到网络中进行训练，之后需要转换成tensor格式"
      ],
      "metadata": {
        "id": "akYmK0_805yB"
      },
      "execution_count": null,
      "outputs": []
    },
    {
      "cell_type": "code",
      "source": [
        "y_values = [2*i + 1 for i in x_values]\n",
        "y_train = np.array(y_values, dtype=np.float32)\n",
        "y_train = y_train.reshape(-1,1)\n",
        "y_train.shape"
      ],
      "metadata": {
        "id": "cHiJeBLc1H0Q"
      },
      "execution_count": null,
      "outputs": []
    },
    {
      "cell_type": "code",
      "source": [
        "import torch\n",
        "import torch.nn as nn"
      ],
      "metadata": {
        "id": "vLBUgoaD2xOB"
      },
      "execution_count": null,
      "outputs": []
    },
    {
      "cell_type": "markdown",
      "source": [
        "# 线性回归模型\n",
        "\n",
        "*   线性回归是不加激活函数的全连接层\n",
        "\n"
      ],
      "metadata": {
        "id": "ZhulGiOW24k2"
      }
    },
    {
      "cell_type": "code",
      "source": [
        "class LinearRegressionModel(nn.Module):\n",
        "  def __init__(self, input_dim, output_dim):\n",
        "    super(LinearRegressionModel, self).__init__()\n",
        "    self.liner = nn.Linear(input_dim, output_dim)\n",
        "\n",
        "  def forward(self, x):\n",
        "    out = self.liner(x)\n",
        "    return out"
      ],
      "metadata": {
        "id": "6AJw-IvH24Un"
      },
      "execution_count": null,
      "outputs": []
    },
    {
      "cell_type": "code",
      "source": [
        "input_dim = 1\n",
        "output_dim = 1\n",
        "model = LinearRegressionModel(input_dim, output_dim)"
      ],
      "metadata": {
        "id": "xgH1dtTL21Hb"
      },
      "execution_count": null,
      "outputs": []
    },
    {
      "cell_type": "code",
      "source": [
        "model"
      ],
      "metadata": {
        "id": "xqLLIH9N56VN"
      },
      "execution_count": null,
      "outputs": []
    },
    {
      "cell_type": "markdown",
      "source": [
        "# 指定好参数和损失函数"
      ],
      "metadata": {
        "id": "gWpA99fE6Y_B"
      }
    },
    {
      "cell_type": "code",
      "source": [
        "epochs = 1000\n",
        "learning_rate = 0.01\n",
        "optimizer = torch.optim.SGD(model.parameters(), lr=learning_rate)\n",
        "criterion = nn.MSELoss()"
      ],
      "metadata": {
        "id": "5dNrE_xb6Xul"
      },
      "execution_count": null,
      "outputs": []
    },
    {
      "cell_type": "code",
      "source": [
        "for epoch in range(epochs):\n",
        "  epoch += 1\n",
        "  \n",
        "  # 注意转成tensor\n",
        "  inputs = torch.from_numpy(x_train)\n",
        "  labels = torch.from_numpy(y_train)\n",
        "\n",
        "  # 前向传播\n",
        "  outputs = model(inputs)\n",
        "\n",
        "  # 计算损失\n",
        "  loss = criterion(outputs, labels)\n",
        "\n",
        "  # 反向传播\n",
        "  loss.backward()\n",
        "\n",
        "  # 更新权重参数\n",
        "  optimizer.step()\n",
        "  if epoch % 50 == 0:\n",
        "    print('epoch {}, loss {}'.format(epoch, loss.item()))\n",
        "    \n",
        "  # 梯度要清零每一次迭代\n",
        "  optimizer.zero_grad()"
      ],
      "metadata": {
        "id": "rkJJ1l4PB3TY"
      },
      "execution_count": null,
      "outputs": []
    },
    {
      "cell_type": "code",
      "source": [
        "predicted = model(torch.from_numpy(x_train).requires_grad_()).data.numpy()\n",
        "predicted"
      ],
      "metadata": {
        "id": "dFNA001gFCwI"
      },
      "execution_count": null,
      "outputs": []
    },
    {
      "cell_type": "code",
      "source": [
        "torch.save(model.state_dict(), 'model.pkl')"
      ],
      "metadata": {
        "id": "KwfBn_csFXm1"
      },
      "execution_count": null,
      "outputs": []
    },
    {
      "cell_type": "code",
      "source": [
        "model.load_state_dict(torch.load('model.pkl'))"
      ],
      "metadata": {
        "id": "wgrJmpxeFhP9"
      },
      "execution_count": null,
      "outputs": []
    },
    {
      "cell_type": "code",
      "source": [
        "import torch\n",
        "import torch.nn as nn\n",
        "import numpy as np\n",
        "\n",
        "\n",
        "class LinearRegressionModel(nn.Module):\n",
        "  def __init__(self, input_dim, output_dim):\n",
        "    super(LinearRegressionModel, self).__init__()\n",
        "    self.liner = nn.Linear(input_dim, output_dim)\n",
        "\n",
        "  def forward(self, x):\n",
        "    out = self.liner(x)\n",
        "    return out\n",
        "\n",
        "input_dim = 1\n",
        "output_dim = 1\n",
        "model = LinearRegressionModel(input_dim, output_dim)\n",
        "device = torch.device('cuda:0' if torch.cuda.is_available() else 'cpu')\n",
        "model.to(device)\n",
        "\n",
        "criterion = nn.MSELoss()\n",
        "\n",
        "learning_rate = 0.01\n",
        "\n",
        "optimizer = torch.optim.SGD(model.parameters(), lr=learning_rate)\n",
        "\n",
        "epochs = 1000\n",
        "\n",
        "for epoch in range(epochs):\n",
        "  epoch += 1\n",
        "  inputs = torch.from_numpy(x_train).to(device)\n",
        "  labels = torch.from_numpy(y_train).to(device)\n",
        "\n",
        "  outputs = model(inputs)\n",
        "\n",
        "  loss = criterion(outputs, labels)\n",
        "  loss.backward()\n",
        "  optimizer.step()\n",
        "  if epoch % 50 == 0:\n",
        "    print('epoch:{}, loss:{}'.format(epoch, loss.item()))\n",
        "\n",
        "  optimizer.zero_grad()\n",
        " "
      ],
      "metadata": {
        "id": "cOSOfNpjFhJQ"
      },
      "execution_count": null,
      "outputs": []
    },
    {
      "cell_type": "code",
      "source": [
        "for epoch in range(10):\n",
        "  print(epoch)"
      ],
      "metadata": {
        "id": "g0uT4MpgHmdv"
      },
      "execution_count": null,
      "outputs": []
    },
    {
      "cell_type": "code",
      "source": [],
      "metadata": {
        "id": "SuHBMuOgHmWj"
      },
      "execution_count": null,
      "outputs": []
    }
  ]
}